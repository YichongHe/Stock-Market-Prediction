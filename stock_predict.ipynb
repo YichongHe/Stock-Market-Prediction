{
 "cells": [
  {
   "cell_type": "code",
   "execution_count": 135,
   "id": "645863fa",
   "metadata": {},
   "outputs": [],
   "source": [
    "import numpy as np\n",
    "import pandas as pd\n",
    "import matplotlib.pyplot as plt\n",
    "import pandas_datareader as web\n",
    "import datetime as dt\n",
    "%matplotlib inline\n",
    "from sklearn.preprocessing import MinMaxScaler\n",
    "from sklearn.metrics import mean_squared_error as mse\n",
    "from tensorflow.keras.models import Sequential\n",
    "from tensorflow.keras.layers import LSTM, Dense, Dropout\n",
    "import tensorflow as tf"
   ]
  },
  {
   "cell_type": "code",
   "execution_count": 136,
   "id": "a8da0136",
   "metadata": {},
   "outputs": [],
   "source": [
    "company = \"AMZN\""
   ]
  },
  {
   "cell_type": "code",
   "execution_count": 137,
   "id": "22074100",
   "metadata": {},
   "outputs": [],
   "source": [
    "def storeData(company):\n",
    "    startDate = dt.datetime(2012,1,1)\n",
    "    endDate = dt.datetime.now()\n",
    "    df = web.DataReader(company, data_source = 'yahoo', start=startDate, end=endDate)\n",
    "    df = df.values[:, 0:-1]\n",
    "    return df"
   ]
  },
  {
   "cell_type": "code",
   "execution_count": 138,
   "id": "d8530ccc",
   "metadata": {},
   "outputs": [
    {
     "data": {
      "text/plain": [
       "(2661, 5)"
      ]
     },
     "execution_count": 138,
     "metadata": {},
     "output_type": "execute_result"
    }
   ],
   "source": [
    "df = storeData(company)\n",
    "df.shape"
   ]
  },
  {
   "cell_type": "code",
   "execution_count": 139,
   "id": "cf30907c",
   "metadata": {},
   "outputs": [],
   "source": [
    "dataset_train = np.array(df[:int(df.shape[0]*0.8)])\n",
    "dataset_test = np.array(df[int(df.shape[0]*0.8)-50:])"
   ]
  },
  {
   "cell_type": "code",
   "execution_count": 140,
   "id": "65362e39",
   "metadata": {},
   "outputs": [
    {
     "name": "stdout",
     "output_type": "stream",
     "text": [
      "(2661, 5)\n",
      "(2128, 5)\n",
      "(583, 5)\n"
     ]
    }
   ],
   "source": [
    "print(df.shape)\n",
    "print(dataset_train.shape)\n",
    "print(dataset_test.shape)"
   ]
  },
  {
   "cell_type": "code",
   "execution_count": 141,
   "id": "6def82c3",
   "metadata": {},
   "outputs": [
    {
     "data": {
      "text/plain": [
       "array([[0.00048347, 0.00144319, 0.00084085, 0.00125429, 0.18409301],\n",
       "       [0.00088439, 0.00165459, 0.00218297, 0.00063928, 0.14467591],\n",
       "       [0.        , 0.00083339, 0.00086106, 0.00067974, 0.12743528],\n",
       "       [0.00251562, 0.00223593, 0.00172212, 0.00270279, 0.26668785],\n",
       "       [0.00240556, 0.00203267, 0.00361807, 0.00106412, 0.18174696]])"
      ]
     },
     "execution_count": 141,
     "metadata": {},
     "output_type": "execute_result"
    }
   ],
   "source": [
    "#Scale train and test from 0 to 1\n",
    "scaler = MinMaxScaler(feature_range=(0,1))\n",
    "dataset_train = scaler.fit_transform(dataset_train)\n",
    "dataset_train[:5]"
   ]
  },
  {
   "cell_type": "code",
   "execution_count": 142,
   "id": "8d4f9261",
   "metadata": {},
   "outputs": [
    {
     "data": {
      "text/plain": [
       "array([[0.73010895, 0.74217621, 0.74516208, 0.7427292 , 0.18423229],\n",
       "       [0.73336349, 0.74767666, 0.74673466, 0.75543393, 0.13475634],\n",
       "       [0.73690112, 0.7503232 , 0.75615373, 0.75533682, 0.16388391],\n",
       "       [0.78682053, 0.75859208, 0.75441547, 0.80636207, 0.25399133],\n",
       "       [0.83084395, 0.81884445, 0.81928616, 0.85266963, 0.31364364]])"
      ]
     },
     "execution_count": 142,
     "metadata": {},
     "output_type": "execute_result"
    }
   ],
   "source": [
    "dataset_test = scaler.transform(dataset_test)\n",
    "dataset_test[:5]"
   ]
  },
  {
   "cell_type": "code",
   "execution_count": 143,
   "id": "3c72a0b1",
   "metadata": {},
   "outputs": [
    {
     "data": {
      "text/plain": [
       "array([[0.73010895, 0.74217621, 0.74516208, 0.7427292 , 0.18423229],\n",
       "       [0.73336349, 0.74767666, 0.74673466, 0.75543393, 0.13475634],\n",
       "       [0.73690112, 0.7503232 , 0.75615373, 0.75533682, 0.16388391],\n",
       "       [0.78682053, 0.75859208, 0.75441547, 0.80636207, 0.25399133],\n",
       "       [0.83084395, 0.81884445, 0.81928616, 0.85266963, 0.31364364]])"
      ]
     },
     "execution_count": 143,
     "metadata": {},
     "output_type": "execute_result"
    }
   ],
   "source": [
    "dataset = scaler.transform(df)\n",
    "dataset_test[:5]"
   ]
  },
  {
   "cell_type": "code",
   "execution_count": 144,
   "id": "1092f5d9",
   "metadata": {},
   "outputs": [],
   "source": [
    "#Predict y based on ealier 50 days\n",
    "def create_dataset(df):\n",
    "    x = []\n",
    "    y = []\n",
    "    for i in range(50, df.shape[0]):\n",
    "        x.append(df[i-50:i])\n",
    "        y.append(df[i])\n",
    "    x = np.array(x)\n",
    "    y = np.array(y)\n",
    "    return x,y"
   ]
  },
  {
   "cell_type": "code",
   "execution_count": 145,
   "id": "0d60d725",
   "metadata": {},
   "outputs": [],
   "source": [
    "x_train, y_train = create_dataset(dataset_train)\n",
    "x_test, y_test = create_dataset(dataset_test)\n",
    "final_x, final_y = create_dataset(dataset)"
   ]
  },
  {
   "cell_type": "code",
   "execution_count": 146,
   "id": "3ef34441",
   "metadata": {},
   "outputs": [
    {
     "name": "stdout",
     "output_type": "stream",
     "text": [
      "(2078, 50, 5)\n",
      "(533, 50, 5)\n",
      "(2611, 50, 5)\n"
     ]
    }
   ],
   "source": [
    "print(x_train.shape)\n",
    "print(x_test.shape)\n",
    "print(final_x.shape)\n",
    "#x_train = np.reshape(x_train, (x_train.shape[0], x_train.shape[1], 1))\n",
    "#x_test = np.reshape(x_test, (x_test.shape[0], x_test.shape[1], 1))"
   ]
  },
  {
   "cell_type": "code",
   "execution_count": 147,
   "id": "5a0faab8",
   "metadata": {},
   "outputs": [],
   "source": [
    "#Create LSTM Model\n",
    "model = Sequential()\n",
    "model.add(LSTM(96, return_sequences = True, input_shape=(x_train.shape[1], 5)))\n",
    "model.add(Dropout(0.2))\n",
    "model.add(LSTM(64, return_sequences = True))\n",
    "model.add(Dropout(0.2))\n",
    "model.add(LSTM(64))\n",
    "model.add(Dropout(0.2))\n",
    "model.add(Dense(5))"
   ]
  },
  {
   "cell_type": "code",
   "execution_count": 148,
   "id": "b001b905",
   "metadata": {},
   "outputs": [
    {
     "name": "stdout",
     "output_type": "stream",
     "text": [
      "Model: \"sequential_7\"\n",
      "_________________________________________________________________\n",
      "Layer (type)                 Output Shape              Param #   \n",
      "=================================================================\n",
      "lstm_21 (LSTM)               (None, 50, 96)            39168     \n",
      "_________________________________________________________________\n",
      "dropout_21 (Dropout)         (None, 50, 96)            0         \n",
      "_________________________________________________________________\n",
      "lstm_22 (LSTM)               (None, 50, 64)            41216     \n",
      "_________________________________________________________________\n",
      "dropout_22 (Dropout)         (None, 50, 64)            0         \n",
      "_________________________________________________________________\n",
      "lstm_23 (LSTM)               (None, 64)                33024     \n",
      "_________________________________________________________________\n",
      "dropout_23 (Dropout)         (None, 64)                0         \n",
      "_________________________________________________________________\n",
      "dense_7 (Dense)              (None, 5)                 325       \n",
      "=================================================================\n",
      "Total params: 113,733\n",
      "Trainable params: 113,733\n",
      "Non-trainable params: 0\n",
      "_________________________________________________________________\n"
     ]
    }
   ],
   "source": [
    "model.summary()"
   ]
  },
  {
   "cell_type": "code",
   "execution_count": 149,
   "id": "9720ed11",
   "metadata": {},
   "outputs": [],
   "source": [
    "model.compile(loss=\"mean_squared_error\", optimizer=\"adam\")"
   ]
  },
  {
   "cell_type": "code",
   "execution_count": 150,
   "id": "3522dc2c",
   "metadata": {
    "scrolled": true
   },
   "outputs": [
    {
     "name": "stdout",
     "output_type": "stream",
     "text": [
      "Epoch 1/30\n",
      "2078/2078 [==============================] - 9s 4ms/sample - loss: 0.0122\n",
      "Epoch 2/30\n",
      "2078/2078 [==============================] - 7s 3ms/sample - loss: 0.0045\n",
      "Epoch 3/30\n",
      "2078/2078 [==============================] - 7s 3ms/sample - loss: 0.0040\n",
      "Epoch 4/30\n",
      "2078/2078 [==============================] - 7s 3ms/sample - loss: 0.0037\n",
      "Epoch 5/30\n",
      "2078/2078 [==============================] - 7s 3ms/sample - loss: 0.0037\n",
      "Epoch 6/30\n",
      "2078/2078 [==============================] - 7s 3ms/sample - loss: 0.0033\n",
      "Epoch 7/30\n",
      "2078/2078 [==============================] - 7s 3ms/sample - loss: 0.0034\n",
      "Epoch 8/30\n",
      "2078/2078 [==============================] - 7s 3ms/sample - loss: 0.0033\n",
      "Epoch 9/30\n",
      "2078/2078 [==============================] - 7s 3ms/sample - loss: 0.0032\n",
      "Epoch 10/30\n",
      "2078/2078 [==============================] - 7s 3ms/sample - loss: 0.0030\n",
      "Epoch 11/30\n",
      "2078/2078 [==============================] - 7s 3ms/sample - loss: 0.0030\n",
      "Epoch 12/30\n",
      "2078/2078 [==============================] - 7s 3ms/sample - loss: 0.0029\n",
      "Epoch 13/30\n",
      "2078/2078 [==============================] - 7s 3ms/sample - loss: 0.0028\n",
      "Epoch 14/30\n",
      "2078/2078 [==============================] - 7s 3ms/sample - loss: 0.0028\n",
      "Epoch 15/30\n",
      "2078/2078 [==============================] - 7s 3ms/sample - loss: 0.0027\n",
      "Epoch 16/30\n",
      "2078/2078 [==============================] - 7s 3ms/sample - loss: 0.0026\n",
      "Epoch 17/30\n",
      "2078/2078 [==============================] - 7s 3ms/sample - loss: 0.0027\n",
      "Epoch 18/30\n",
      "2078/2078 [==============================] - 7s 3ms/sample - loss: 0.0026\n",
      "Epoch 19/30\n",
      "2078/2078 [==============================] - 7s 3ms/sample - loss: 0.0025\n",
      "Epoch 20/30\n",
      "2078/2078 [==============================] - 7s 3ms/sample - loss: 0.0026\n",
      "Epoch 21/30\n",
      "2078/2078 [==============================] - 7s 3ms/sample - loss: 0.0025\n",
      "Epoch 22/30\n",
      "2078/2078 [==============================] - 7s 3ms/sample - loss: 0.0024\n",
      "Epoch 23/30\n",
      "2078/2078 [==============================] - 7s 3ms/sample - loss: 0.0024\n",
      "Epoch 24/30\n",
      "2078/2078 [==============================] - 7s 3ms/sample - loss: 0.0024\n",
      "Epoch 25/30\n",
      "2078/2078 [==============================] - 7s 3ms/sample - loss: 0.0024\n",
      "Epoch 26/30\n",
      "2078/2078 [==============================] - 7s 3ms/sample - loss: 0.0023\n",
      "Epoch 27/30\n",
      "2078/2078 [==============================] - 7s 3ms/sample - loss: 0.0022\n",
      "Epoch 28/30\n",
      "2078/2078 [==============================] - 7s 3ms/sample - loss: 0.0022\n",
      "Epoch 29/30\n",
      "2078/2078 [==============================] - 7s 3ms/sample - loss: 0.0023\n",
      "Epoch 30/30\n",
      "2078/2078 [==============================] - 7s 3ms/sample - loss: 0.0022\n"
     ]
    },
    {
     "data": {
      "text/plain": [
       "<tensorflow.python.keras.callbacks.History at 0x22a182874c8>"
      ]
     },
     "execution_count": 150,
     "metadata": {},
     "output_type": "execute_result"
    }
   ],
   "source": [
    "model.fit(x_train, y_train, epochs=30, batch_size=32)"
   ]
  },
  {
   "cell_type": "code",
   "execution_count": 151,
   "id": "2503a0b1",
   "metadata": {},
   "outputs": [],
   "source": [
    "#load model"
   ]
  },
  {
   "cell_type": "code",
   "execution_count": 152,
   "id": "65d9ce37",
   "metadata": {},
   "outputs": [
    {
     "data": {
      "image/png": "[encoded data removed]",
      "text/plain": [
       "<Figure size 576x288 with 1 Axes>"
      ]
     },
     "metadata": {
      "needs_background": "light"
     },
     "output_type": "display_data"
    }
   ],
   "source": [
    "prediction = model.predict(x_test)\n",
    "\n",
    "prediction = scaler.inverse_transform(prediction)\n",
    "prediction = np.reshape(prediction[:,0], (-1, 1))\n",
    "\n",
    "actual = scaler.inverse_transform(dataset_test)\n",
    "actual = np.reshape(actual[:,0], (-1, 1))\n",
    "\n",
    "fig, ax = plt.subplots(figsize=(8,4))\n",
    "plt.plot(range(len(y_train), len(y_train)+50+len(prediction)), actual, color=\"red\", label=\"original Stockprice\")\n",
    "ax.plot(range(len(y_train)+50, len(y_train)+50+len(prediction)), prediction, color='blue', label='Predictions')\n",
    "plt.legend()\n",
    "\n",
    "plt.savefig(\"Accuracy Graph/Test-\" + company + \".png\")"
   ]
  },
  {
   "cell_type": "code",
   "execution_count": 153,
   "id": "99732cd6",
   "metadata": {},
   "outputs": [
    {
     "data": {
      "text/plain": [
       "5.179884308984706"
      ]
     },
     "execution_count": 153,
     "metadata": {},
     "output_type": "execute_result"
    }
   ],
   "source": [
    "(mse(prediction, actual[50:])**0.5)"
   ]
  },
  {
   "cell_type": "code",
   "execution_count": null,
   "id": "210af17f",
   "metadata": {},
   "outputs": [],
   "source": []
  }
 ],
 "metadata": {
  "kernelspec": {
   "display_name": "Python 3 (ipykernel)",
   "language": "python",
   "name": "python3"
  },
  "language_info": {
   "codemirror_mode": {
    "name": "ipython",
    "version": 3
   },
   "file_extension": ".py",
   "mimetype": "text/x-python",
   "name": "python",
   "nbconvert_exporter": "python",
   "pygments_lexer": "ipython3",
   "version": "3.7.13"
  }
 },
 "nbformat": 4,
 "nbformat_minor": 5
}